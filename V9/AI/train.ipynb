{
 "cells": [
  {
   "cell_type": "code",
   "execution_count": 1,
   "metadata": {},
   "outputs": [],
   "source": [
    "import numpy as np\n",
    "import os\n",
    "import PIL\n",
    "import PIL.Image\n",
    "import tensorflow as tf"
   ]
  },
  {
   "cell_type": "code",
   "execution_count": 2,
   "metadata": {},
   "outputs": [
    {
     "name": "stdout",
     "output_type": "stream",
     "text": [
      "Found 6598 files belonging to 42 classes.\n",
      "Using 4619 files for training.\n",
      "Found 6598 files belonging to 42 classes.\n",
      "Using 1979 files for validation.\n"
     ]
    }
   ],
   "source": [
    "batch_size = 32\n",
    "img_height = 16\n",
    "img_width = 8\n",
    "\n",
    "train_ds = tf.keras.utils.image_dataset_from_directory(\n",
    "    \"Dataset\",\n",
    "    validation_split=0.3,\n",
    "    subset=\"training\",\n",
    "    seed=256,\n",
    "    image_size=(img_height, img_width),\n",
    "    batch_size=batch_size)\n",
    "\n",
    "val_ds = tf.keras.utils.image_dataset_from_directory(\n",
    "    \"Dataset\",\n",
    "    validation_split=0.3,\n",
    "    subset=\"validation\",\n",
    "    seed=256,\n",
    "    image_size=(img_height, img_width),\n",
    "    batch_size=batch_size)\n",
    "    \n",
    "normalization_layer = tf.keras.layers.Rescaling(1./255)"
   ]
  },
  {
   "cell_type": "code",
   "execution_count": 3,
   "metadata": {},
   "outputs": [
    {
     "data": {
      "text/plain": [
       "['0',\n",
       " '1',\n",
       " '10',\n",
       " '11',\n",
       " '12',\n",
       " '13',\n",
       " '14',\n",
       " '15',\n",
       " '16',\n",
       " '17',\n",
       " '18',\n",
       " '19',\n",
       " '2',\n",
       " '20',\n",
       " '21',\n",
       " '22',\n",
       " '23',\n",
       " '24',\n",
       " '25',\n",
       " '26',\n",
       " '27',\n",
       " '28',\n",
       " '29',\n",
       " '3',\n",
       " '30',\n",
       " '31',\n",
       " '32',\n",
       " '33',\n",
       " '34',\n",
       " '35',\n",
       " '36',\n",
       " '37',\n",
       " '38',\n",
       " '39',\n",
       " '4',\n",
       " '40',\n",
       " '5',\n",
       " '51',\n",
       " '6',\n",
       " '7',\n",
       " '8',\n",
       " '9']"
      ]
     },
     "execution_count": 3,
     "metadata": {},
     "output_type": "execute_result"
    }
   ],
   "source": [
    "class_names = val_ds.class_names\n",
    "class_names"
   ]
  },
  {
   "cell_type": "code",
   "execution_count": 4,
   "metadata": {},
   "outputs": [
    {
     "name": "stdout",
     "output_type": "stream",
     "text": [
      "0.1764706 0.9843138\n"
     ]
    }
   ],
   "source": [
    "normalized_ds = train_ds.map(lambda x, y: (normalization_layer(x), y))\n",
    "image_batch, labels_batch = next(iter(normalized_ds))\n",
    "first_image = image_batch[0]\n",
    "# Notice the pixel values are now in `[0,1]`.\n",
    "print(np.min(first_image), np.max(first_image))\n",
    "\n",
    "AUTOTUNE = tf.data.AUTOTUNE\n",
    "\n",
    "train_ds = train_ds.cache().prefetch(buffer_size=AUTOTUNE)\n",
    "val_ds = val_ds.cache().prefetch(buffer_size=AUTOTUNE)"
   ]
  },
  {
   "cell_type": "code",
   "execution_count": 5,
   "metadata": {},
   "outputs": [],
   "source": [
    "num_classes = len(os.listdir(\"Dataset\"))\n",
    "\n",
    "model = tf.keras.Sequential([\n",
    "  tf.keras.layers.Rescaling(1./255),\n",
    "  tf.keras.layers.Flatten(),\n",
    "  tf.keras.layers.Dense(100, activation='relu'),\n",
    "  tf.keras.layers.Dense(75, activation='relu'),\n",
    "  # tf.keras.layers.Dense(64, activation='relu'),\n",
    "  tf.keras.layers.Dense(num_classes, activation=tf.nn.softmax)\n",
    "])"
   ]
  },
  {
   "cell_type": "code",
   "execution_count": 6,
   "metadata": {},
   "outputs": [
    {
     "name": "stderr",
     "output_type": "stream",
     "text": [
      "C:\\Users\\Admin\\AppData\\Local\\Programs\\Python\\Python37\\lib\\site-packages\\keras\\optimizer_v2\\adam.py:105: UserWarning: The `lr` argument is deprecated, use `learning_rate` instead.\n",
      "  super(Adam, self).__init__(name, **kwargs)\n"
     ]
    }
   ],
   "source": [
    "opt = tf.keras.optimizers.Adam(lr=0.001, decay=5*1e-6)\n",
    "# model.compile(optimizer=opt, \n",
    "model.compile(optimizer='adam', \n",
    "              loss='sparse_categorical_crossentropy', \n",
    "              metrics=['accuracy'])\n",
    "\n",
    "from tensorflow.keras.callbacks import TensorBoard\n",
    "import random\n",
    "NAME = \"basic\"+str(random.randint(1,1000))\n",
    "tensorboard = TensorBoard(log_dir='logs/{}'.format(NAME))\n",
    "# cd \"C:\\src\\Python\\Smart Clicker\\V9\\\"\n",
    "# tensorboard --logdir=\"logs/\""
   ]
  },
  {
   "cell_type": "code",
   "execution_count": 7,
   "metadata": {},
   "outputs": [
    {
     "name": "stdout",
     "output_type": "stream",
     "text": [
      "Epoch 1/50\n",
      "145/145 [==============================] - 9s 53ms/step - loss: 2.7126 - accuracy: 0.3380 - val_loss: 1.4828 - val_accuracy: 0.6180\n",
      "Epoch 2/50\n",
      "145/145 [==============================] - 0s 3ms/step - loss: 1.0171 - accuracy: 0.7473 - val_loss: 0.7416 - val_accuracy: 0.8130\n",
      "Epoch 3/50\n",
      "145/145 [==============================] - 1s 4ms/step - loss: 0.5956 - accuracy: 0.8272 - val_loss: 0.4915 - val_accuracy: 0.8701\n",
      "Epoch 4/50\n",
      "145/145 [==============================] - 1s 4ms/step - loss: 0.4261 - accuracy: 0.8640 - val_loss: 0.3664 - val_accuracy: 0.9131\n",
      "Epoch 5/50\n",
      "145/145 [==============================] - 1s 5ms/step - loss: 0.3295 - accuracy: 0.8976 - val_loss: 0.2859 - val_accuracy: 0.9525\n",
      "Epoch 6/50\n",
      "145/145 [==============================] - 1s 5ms/step - loss: 0.2618 - accuracy: 0.9249 - val_loss: 0.2265 - val_accuracy: 0.9550\n",
      "Epoch 7/50\n",
      "145/145 [==============================] - 0s 3ms/step - loss: 0.2134 - accuracy: 0.9389 - val_loss: 0.1873 - val_accuracy: 0.9581\n",
      "Epoch 8/50\n",
      "145/145 [==============================] - 0s 3ms/step - loss: 0.1759 - accuracy: 0.9506 - val_loss: 0.1604 - val_accuracy: 0.9591\n",
      "Epoch 9/50\n",
      "145/145 [==============================] - 0s 2ms/step - loss: 0.1487 - accuracy: 0.9580 - val_loss: 0.1430 - val_accuracy: 0.9611\n",
      "Epoch 10/50\n",
      "145/145 [==============================] - 0s 3ms/step - loss: 0.1275 - accuracy: 0.9632 - val_loss: 0.1257 - val_accuracy: 0.9656\n",
      "Epoch 11/50\n",
      "145/145 [==============================] - 0s 3ms/step - loss: 0.1113 - accuracy: 0.9695 - val_loss: 0.1086 - val_accuracy: 0.9763\n",
      "Epoch 12/50\n",
      "145/145 [==============================] - 0s 3ms/step - loss: 0.0951 - accuracy: 0.9751 - val_loss: 0.0940 - val_accuracy: 0.9818\n",
      "Epoch 13/50\n",
      "145/145 [==============================] - 0s 3ms/step - loss: 0.0851 - accuracy: 0.9794 - val_loss: 0.0761 - val_accuracy: 0.9914\n",
      "Epoch 14/50\n",
      "145/145 [==============================] - 0s 3ms/step - loss: 0.0758 - accuracy: 0.9820 - val_loss: 0.0644 - val_accuracy: 0.9924\n",
      "Epoch 15/50\n",
      "145/145 [==============================] - 0s 3ms/step - loss: 0.0632 - accuracy: 0.9853 - val_loss: 0.0552 - val_accuracy: 0.9939\n",
      "Epoch 16/50\n",
      "145/145 [==============================] - 0s 3ms/step - loss: 0.0576 - accuracy: 0.9877 - val_loss: 0.0487 - val_accuracy: 0.9934\n",
      "Epoch 17/50\n",
      "145/145 [==============================] - 0s 2ms/step - loss: 0.0495 - accuracy: 0.9890 - val_loss: 0.0424 - val_accuracy: 0.9939\n",
      "Epoch 18/50\n",
      "145/145 [==============================] - 0s 3ms/step - loss: 0.0430 - accuracy: 0.9922 - val_loss: 0.0367 - val_accuracy: 0.9939\n",
      "Epoch 19/50\n",
      "145/145 [==============================] - 0s 3ms/step - loss: 0.0372 - accuracy: 0.9924 - val_loss: 0.0309 - val_accuracy: 0.9944\n",
      "Epoch 20/50\n",
      "145/145 [==============================] - 1s 3ms/step - loss: 0.0338 - accuracy: 0.9929 - val_loss: 0.0285 - val_accuracy: 0.9944\n",
      "Epoch 21/50\n",
      "145/145 [==============================] - 0s 3ms/step - loss: 0.0303 - accuracy: 0.9931 - val_loss: 0.0252 - val_accuracy: 0.9944\n",
      "Epoch 22/50\n",
      "145/145 [==============================] - 0s 3ms/step - loss: 0.0285 - accuracy: 0.9935 - val_loss: 0.0222 - val_accuracy: 0.9949\n",
      "Epoch 23/50\n",
      "145/145 [==============================] - 1s 3ms/step - loss: 0.0286 - accuracy: 0.9926 - val_loss: 0.0217 - val_accuracy: 0.9939\n",
      "Epoch 24/50\n",
      "145/145 [==============================] - 1s 5ms/step - loss: 0.0263 - accuracy: 0.9931 - val_loss: 0.0166 - val_accuracy: 0.9949\n",
      "Epoch 25/50\n",
      "145/145 [==============================] - 1s 4ms/step - loss: 0.0169 - accuracy: 0.9970 - val_loss: 0.0150 - val_accuracy: 0.9975\n",
      "Epoch 26/50\n",
      "145/145 [==============================] - 0s 3ms/step - loss: 0.0151 - accuracy: 0.9976 - val_loss: 0.0141 - val_accuracy: 0.9975\n",
      "Epoch 27/50\n",
      "145/145 [==============================] - 0s 3ms/step - loss: 0.0145 - accuracy: 0.9974 - val_loss: 0.0128 - val_accuracy: 0.9975\n",
      "Epoch 28/50\n",
      "145/145 [==============================] - 0s 3ms/step - loss: 0.0126 - accuracy: 0.9972 - val_loss: 0.0127 - val_accuracy: 0.9975\n",
      "Epoch 29/50\n",
      "145/145 [==============================] - 0s 3ms/step - loss: 0.0114 - accuracy: 0.9978 - val_loss: 0.0119 - val_accuracy: 0.9975\n",
      "Epoch 30/50\n",
      "145/145 [==============================] - 0s 3ms/step - loss: 0.0102 - accuracy: 0.9981 - val_loss: 0.0114 - val_accuracy: 0.9975\n",
      "Epoch 31/50\n",
      "145/145 [==============================] - 0s 2ms/step - loss: 0.0091 - accuracy: 0.9989 - val_loss: 0.0113 - val_accuracy: 0.9975\n",
      "Epoch 32/50\n",
      "145/145 [==============================] - 0s 3ms/step - loss: 0.0241 - accuracy: 0.9933 - val_loss: 0.1998 - val_accuracy: 0.9439\n",
      "Epoch 33/50\n",
      "145/145 [==============================] - 0s 3ms/step - loss: 0.0695 - accuracy: 0.9829 - val_loss: 0.0109 - val_accuracy: 0.9990\n",
      "Epoch 34/50\n",
      "145/145 [==============================] - 0s 2ms/step - loss: 0.0175 - accuracy: 0.9963 - val_loss: 0.0084 - val_accuracy: 0.9990\n",
      "Epoch 35/50\n",
      "145/145 [==============================] - 0s 3ms/step - loss: 0.0076 - accuracy: 0.9994 - val_loss: 0.0076 - val_accuracy: 0.9985\n",
      "Epoch 36/50\n",
      "145/145 [==============================] - 1s 5ms/step - loss: 0.0365 - accuracy: 0.9883 - val_loss: 0.0095 - val_accuracy: 0.9985\n",
      "Epoch 37/50\n",
      "145/145 [==============================] - 0s 3ms/step - loss: 0.0154 - accuracy: 0.9957 - val_loss: 0.0065 - val_accuracy: 0.9990\n",
      "Epoch 38/50\n",
      "145/145 [==============================] - 0s 2ms/step - loss: 0.0059 - accuracy: 0.9994 - val_loss: 0.0062 - val_accuracy: 0.9985\n",
      "Epoch 39/50\n",
      "145/145 [==============================] - 0s 2ms/step - loss: 0.0057 - accuracy: 0.9989 - val_loss: 0.0059 - val_accuracy: 0.9985\n",
      "Epoch 40/50\n",
      "145/145 [==============================] - 0s 2ms/step - loss: 0.0062 - accuracy: 0.9994 - val_loss: 0.0055 - val_accuracy: 0.9985\n",
      "Epoch 41/50\n",
      "145/145 [==============================] - 0s 2ms/step - loss: 0.0059 - accuracy: 0.9994 - val_loss: 0.0053 - val_accuracy: 0.9985\n",
      "Epoch 42/50\n",
      "145/145 [==============================] - 0s 2ms/step - loss: 0.0235 - accuracy: 0.9942 - val_loss: 0.0087 - val_accuracy: 0.9990\n",
      "Epoch 43/50\n",
      "145/145 [==============================] - 0s 2ms/step - loss: 0.0040 - accuracy: 0.9994 - val_loss: 0.0045 - val_accuracy: 0.9995\n",
      "Epoch 44/50\n",
      "145/145 [==============================] - 0s 2ms/step - loss: 0.0268 - accuracy: 0.9922 - val_loss: 0.0087 - val_accuracy: 0.9985\n",
      "Epoch 45/50\n",
      "145/145 [==============================] - 0s 3ms/step - loss: 0.0045 - accuracy: 0.9991 - val_loss: 0.0045 - val_accuracy: 0.9990\n",
      "Epoch 46/50\n",
      "145/145 [==============================] - 1s 4ms/step - loss: 0.0032 - accuracy: 0.9994 - val_loss: 0.0041 - val_accuracy: 0.9995\n",
      "Epoch 47/50\n",
      "145/145 [==============================] - 0s 3ms/step - loss: 0.0064 - accuracy: 0.9983 - val_loss: 0.0039 - val_accuracy: 0.9995\n",
      "Epoch 48/50\n",
      "145/145 [==============================] - 1s 4ms/step - loss: 0.0451 - accuracy: 0.9853 - val_loss: 0.0141 - val_accuracy: 0.9949\n",
      "Epoch 49/50\n",
      "145/145 [==============================] - 1s 4ms/step - loss: 0.0037 - accuracy: 0.9994 - val_loss: 0.0043 - val_accuracy: 0.9990\n",
      "Epoch 50/50\n",
      "145/145 [==============================] - 0s 3ms/step - loss: 0.0029 - accuracy: 0.9998 - val_loss: 0.0042 - val_accuracy: 0.9990\n"
     ]
    },
    {
     "data": {
      "text/plain": [
       "<keras.callbacks.History at 0x211dcba3308>"
      ]
     },
     "execution_count": 7,
     "metadata": {},
     "output_type": "execute_result"
    }
   ],
   "source": [
    "model.fit(\n",
    "    train_ds,\n",
    "    validation_data=val_ds,\n",
    "    epochs=50, callbacks=[tensorboard]\n",
    ")\n"
   ]
  },
  {
   "cell_type": "code",
   "execution_count": 8,
   "metadata": {},
   "outputs": [
    {
     "name": "stdout",
     "output_type": "stream",
     "text": [
      "INFO:tensorflow:Assets written to: item_reader_seq.model\\assets\n"
     ]
    }
   ],
   "source": [
    "model_name = \"item_reader_seq.model\"\n",
    "model.save(model_name)"
   ]
  },
  {
   "cell_type": "code",
   "execution_count": 9,
   "metadata": {},
   "outputs": [
    {
     "name": "stdout",
     "output_type": "stream",
     "text": [
      "51 51\n",
      "26 26\n",
      "27 27\n",
      "7 7\n",
      "32 32\n",
      "19 19\n",
      "3 3\n",
      "34 34\n",
      "19 19\n",
      "11 11\n",
      "37 37\n",
      "1 1\n",
      "8 8\n",
      "39 39\n",
      "38 38\n",
      "7 7\n",
      "3 3\n",
      "33 33\n",
      "17 17\n",
      "28 28\n",
      "7 7\n",
      "28 28\n",
      "37 37\n",
      "26 26\n",
      "8 8\n"
     ]
    },
    {
     "ename": "KeyboardInterrupt",
     "evalue": "",
     "output_type": "error",
     "traceback": [
      "\u001b[1;31m---------------------------------------------------------------------------\u001b[0m",
      "\u001b[1;31mKeyboardInterrupt\u001b[0m                         Traceback (most recent call last)",
      "\u001b[1;32m<ipython-input-9-8e9db8957a45>\u001b[0m in \u001b[0;36m<module>\u001b[1;34m\u001b[0m\n\u001b[0;32m     18\u001b[0m     \u001b[0mcv2\u001b[0m\u001b[1;33m.\u001b[0m\u001b[0mimshow\u001b[0m\u001b[1;33m(\u001b[0m\u001b[1;34m'image'\u001b[0m\u001b[1;33m,\u001b[0m \u001b[0mX\u001b[0m\u001b[1;33m[\u001b[0m\u001b[1;36m0\u001b[0m\u001b[1;33m]\u001b[0m\u001b[1;33m)\u001b[0m\u001b[1;33m\u001b[0m\u001b[1;33m\u001b[0m\u001b[0m\n\u001b[0;32m     19\u001b[0m     \u001b[0mcv2\u001b[0m\u001b[1;33m.\u001b[0m\u001b[0mimwrite\u001b[0m\u001b[1;33m(\u001b[0m\u001b[1;34m\"image.png\"\u001b[0m\u001b[1;33m,\u001b[0m \u001b[0mcv2\u001b[0m\u001b[1;33m.\u001b[0m\u001b[0mcvtColor\u001b[0m\u001b[1;33m(\u001b[0m\u001b[0mX\u001b[0m\u001b[1;33m[\u001b[0m\u001b[1;36m0\u001b[0m\u001b[1;33m]\u001b[0m\u001b[1;33m,\u001b[0m \u001b[0mcv2\u001b[0m\u001b[1;33m.\u001b[0m\u001b[0mCOLOR_RGB2BGR\u001b[0m\u001b[1;33m)\u001b[0m\u001b[1;33m)\u001b[0m\u001b[1;33m\u001b[0m\u001b[1;33m\u001b[0m\u001b[0m\n\u001b[1;32m---> 20\u001b[1;33m     \u001b[0mcv2\u001b[0m\u001b[1;33m.\u001b[0m\u001b[0mwaitKey\u001b[0m\u001b[1;33m(\u001b[0m\u001b[1;36m0\u001b[0m\u001b[1;33m)\u001b[0m\u001b[1;33m\u001b[0m\u001b[1;33m\u001b[0m\u001b[0m\n\u001b[0m\u001b[0;32m     21\u001b[0m \u001b[1;33m\u001b[0m\u001b[0m\n\u001b[0;32m     22\u001b[0m     \u001b[0mprint\u001b[0m\u001b[1;33m(\u001b[0m\u001b[0mclass_names\u001b[0m\u001b[1;33m[\u001b[0m\u001b[0my\u001b[0m\u001b[1;33m[\u001b[0m\u001b[1;36m0\u001b[0m\u001b[1;33m]\u001b[0m\u001b[1;33m]\u001b[0m\u001b[1;33m,\u001b[0m \u001b[0mclass_names\u001b[0m\u001b[1;33m[\u001b[0m\u001b[0my_predict\u001b[0m\u001b[1;33m[\u001b[0m\u001b[1;36m0\u001b[0m\u001b[1;33m]\u001b[0m\u001b[1;33m]\u001b[0m\u001b[1;33m)\u001b[0m\u001b[1;33m\u001b[0m\u001b[1;33m\u001b[0m\u001b[0m\n",
      "\u001b[1;31mKeyboardInterrupt\u001b[0m: "
     ]
    }
   ],
   "source": [
    "import numpy as np\n",
    "import cv2\n",
    "X=[]\n",
    "y=[]\n",
    "\n",
    "for index, batch in enumerate(val_ds):\n",
    "    X, y = batch\n",
    "    X = X.numpy()\n",
    "    y = y.numpy()\n",
    "    \n",
    "    y_predict = model.predict(X)\n",
    "    y_predict = np.argmax(y_predict, axis=1)\n",
    "    # for i in range(32):\n",
    "    #     if y[i]!=y_predict[i]:\n",
    "    #         print(index, i)\n",
    "    #         cv2.imwrite(f\"{random.randint(1, 100)}.png\", X[i])\n",
    "    \n",
    "    cv2.imshow('image', X[0]) \n",
    "    cv2.imwrite(\"image.png\", cv2.cvtColor(X[0], cv2.COLOR_RGB2BGR))\n",
    "    cv2.waitKey(0)\n",
    "    \n",
    "    print(class_names[y[0]], class_names[y_predict[0]])\n",
    "    # print(y_predict)\n",
    "    # break\n",
    "\n"
   ]
  },
  {
   "cell_type": "code",
   "execution_count": null,
   "metadata": {},
   "outputs": [],
   "source": []
  }
 ],
 "metadata": {
  "interpreter": {
   "hash": "684b1123683431d89d3bfe9a89cc763215f4b8cd94b4aba1fb40ad45ff7c8b41"
  },
  "kernelspec": {
   "display_name": "Python 3.7.4 64-bit",
   "name": "python3"
  },
  "language_info": {
   "codemirror_mode": {
    "name": "ipython",
    "version": 3
   },
   "file_extension": ".py",
   "mimetype": "text/x-python",
   "name": "python",
   "nbconvert_exporter": "python",
   "pygments_lexer": "ipython3",
   "version": "3.7.4"
  },
  "orig_nbformat": 4
 },
 "nbformat": 4,
 "nbformat_minor": 2
}
