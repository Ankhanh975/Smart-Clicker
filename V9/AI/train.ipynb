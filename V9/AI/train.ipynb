{
 "cells": [
  {
   "cell_type": "code",
   "execution_count": 13,
   "metadata": {},
   "outputs": [],
   "source": [
    "import numpy as np\n",
    "import os\n",
    "import PIL\n",
    "import PIL.Image\n",
    "import tensorflow as tf"
   ]
  },
  {
   "cell_type": "code",
   "execution_count": 14,
   "metadata": {},
   "outputs": [
    {
     "name": "stdout",
     "output_type": "stream",
     "text": [
      "Found 6598 files belonging to 42 classes.\n",
      "Using 4619 files for training.\n",
      "Found 6598 files belonging to 42 classes.\n",
      "Using 1979 files for validation.\n"
     ]
    }
   ],
   "source": [
    "batch_size = 32\n",
    "img_height = 16\n",
    "img_width = 8\n",
    "\n",
    "train_ds = tf.keras.utils.image_dataset_from_directory(\n",
    "    \"Dataset\",\n",
    "    validation_split=0.3,\n",
    "    subset=\"training\",\n",
    "    seed=256,\n",
    "    image_size=(img_height, img_width),\n",
    "    batch_size=batch_size)\n",
    "\n",
    "val_ds = tf.keras.utils.image_dataset_from_directory(\n",
    "    \"Dataset\",\n",
    "    validation_split=0.3,\n",
    "    subset=\"validation\",\n",
    "    seed=256,\n",
    "    image_size=(img_height, img_width),\n",
    "    batch_size=batch_size)\n",
    "    \n",
    "normalization_layer = tf.keras.layers.Rescaling(1./255)"
   ]
  },
  {
   "cell_type": "code",
   "execution_count": 15,
   "metadata": {},
   "outputs": [
    {
     "data": {
      "text/plain": [
       "['0',\n",
       " '1',\n",
       " '10',\n",
       " '11',\n",
       " '12',\n",
       " '13',\n",
       " '14',\n",
       " '15',\n",
       " '16',\n",
       " '17',\n",
       " '18',\n",
       " '19',\n",
       " '2',\n",
       " '20',\n",
       " '21',\n",
       " '22',\n",
       " '23',\n",
       " '24',\n",
       " '25',\n",
       " '26',\n",
       " '27',\n",
       " '28',\n",
       " '29',\n",
       " '3',\n",
       " '30',\n",
       " '31',\n",
       " '32',\n",
       " '33',\n",
       " '34',\n",
       " '35',\n",
       " '36',\n",
       " '37',\n",
       " '38',\n",
       " '39',\n",
       " '4',\n",
       " '40',\n",
       " '5',\n",
       " '51',\n",
       " '6',\n",
       " '7',\n",
       " '8',\n",
       " '9']"
      ]
     },
     "execution_count": 15,
     "metadata": {},
     "output_type": "execute_result"
    }
   ],
   "source": [
    "class_names = val_ds.class_names\n",
    "class_names"
   ]
  },
  {
   "cell_type": "code",
   "execution_count": 16,
   "metadata": {},
   "outputs": [
    {
     "name": "stdout",
     "output_type": "stream",
     "text": [
      "0.1764706 0.9843138\n"
     ]
    }
   ],
   "source": [
    "normalized_ds = train_ds.map(lambda x, y: (normalization_layer(x), y))\n",
    "image_batch, labels_batch = next(iter(normalized_ds))\n",
    "first_image = image_batch[0]\n",
    "# Notice the pixel values are now in `[0,1]`.\n",
    "print(np.min(first_image), np.max(first_image))\n",
    "\n",
    "AUTOTUNE = tf.data.AUTOTUNE\n",
    "\n",
    "train_ds = train_ds.cache().prefetch(buffer_size=AUTOTUNE)\n",
    "val_ds = val_ds.cache().prefetch(buffer_size=AUTOTUNE)"
   ]
  },
  {
   "cell_type": "code",
   "execution_count": 17,
   "metadata": {},
   "outputs": [],
   "source": [
    "num_classes = len(os.listdir(\"Dataset\"))\n",
    "\n",
    "model = tf.keras.Sequential([\n",
    "  tf.keras.layers.Rescaling(1./255),\n",
    "  tf.keras.layers.Flatten(),\n",
    "  tf.keras.layers.Dense(128, activation='relu'),\n",
    "  # tf.keras.layers.Dense(69, activation='relu'),\n",
    "  tf.keras.layers.Dense(num_classes, activation=tf.nn.softmax)\n",
    "])"
   ]
  },
  {
   "cell_type": "code",
   "execution_count": 18,
   "metadata": {},
   "outputs": [],
   "source": [
    "opt = tf.keras.optimizers.Adam(lr=0.001, decay=5*1e-6)\n",
    "# model.compile(optimizer=opt, \n",
    "model.compile(optimizer='adam', \n",
    "              loss='sparse_categorical_crossentropy', \n",
    "              metrics=['accuracy'])\n",
    "\n",
    "from tensorflow.keras.callbacks import TensorBoard\n",
    "import random\n",
    "NAME = \"basic\"+str(random.randint(1,1000))\n",
    "tensorboard = TensorBoard(log_dir='logs/{}'.format(NAME))\n",
    "# cd \"C:\\src\\Python\\Smart Clicker\\V9\\\"\n",
    "# tensorboard --logdir=\"logs/\""
   ]
  },
  {
   "cell_type": "code",
   "execution_count": 22,
   "metadata": {},
   "outputs": [
    {
     "name": "stdout",
     "output_type": "stream",
     "text": [
      "Epoch 1/50\n",
      "145/145 [==============================] - 1s 4ms/step - loss: 0.0092 - accuracy: 0.9983 - val_loss: 0.0079 - val_accuracy: 1.0000\n",
      "Epoch 2/50\n",
      "145/145 [==============================] - 0s 2ms/step - loss: 0.0087 - accuracy: 0.9983 - val_loss: 0.0074 - val_accuracy: 1.0000\n",
      "Epoch 3/50\n",
      "145/145 [==============================] - 0s 2ms/step - loss: 0.0082 - accuracy: 0.9983 - val_loss: 0.0070 - val_accuracy: 1.0000\n",
      "Epoch 4/50\n",
      "145/145 [==============================] - 0s 2ms/step - loss: 0.0076 - accuracy: 0.9987 - val_loss: 0.0065 - val_accuracy: 1.0000\n",
      "Epoch 5/50\n",
      "145/145 [==============================] - 0s 3ms/step - loss: 0.0071 - accuracy: 0.9989 - val_loss: 0.0061 - val_accuracy: 1.0000\n",
      "Epoch 6/50\n",
      "145/145 [==============================] - 0s 2ms/step - loss: 0.0066 - accuracy: 0.9989 - val_loss: 0.0057 - val_accuracy: 1.0000\n",
      "Epoch 7/50\n",
      "145/145 [==============================] - 0s 2ms/step - loss: 0.0061 - accuracy: 0.9991 - val_loss: 0.0054 - val_accuracy: 1.0000\n",
      "Epoch 8/50\n",
      "145/145 [==============================] - 0s 2ms/step - loss: 0.0059 - accuracy: 0.9991 - val_loss: 0.0050 - val_accuracy: 1.0000\n",
      "Epoch 9/50\n",
      "145/145 [==============================] - 0s 2ms/step - loss: 0.0054 - accuracy: 0.9994 - val_loss: 0.0047 - val_accuracy: 1.0000\n",
      "Epoch 10/50\n",
      "145/145 [==============================] - 0s 2ms/step - loss: 0.0050 - accuracy: 0.9996 - val_loss: 0.0044 - val_accuracy: 1.0000\n",
      "Epoch 11/50\n",
      "145/145 [==============================] - 0s 2ms/step - loss: 0.0048 - accuracy: 0.9996 - val_loss: 0.0042 - val_accuracy: 1.0000\n",
      "Epoch 12/50\n",
      "145/145 [==============================] - 0s 2ms/step - loss: 0.0047 - accuracy: 0.9994 - val_loss: 0.0040 - val_accuracy: 1.0000\n",
      "Epoch 13/50\n",
      "145/145 [==============================] - 0s 3ms/step - loss: 0.0046 - accuracy: 0.9991 - val_loss: 0.0038 - val_accuracy: 1.0000\n",
      "Epoch 14/50\n",
      "145/145 [==============================] - 0s 2ms/step - loss: 0.0053 - accuracy: 0.9994 - val_loss: 0.0038 - val_accuracy: 1.0000\n",
      "Epoch 15/50\n",
      "145/145 [==============================] - 0s 3ms/step - loss: 0.0765 - accuracy: 0.9794 - val_loss: 0.0462 - val_accuracy: 0.9838\n",
      "Epoch 16/50\n",
      "145/145 [==============================] - 0s 3ms/step - loss: 0.0054 - accuracy: 0.9996 - val_loss: 0.0044 - val_accuracy: 1.0000\n",
      "Epoch 17/50\n",
      "145/145 [==============================] - 0s 3ms/step - loss: 0.0036 - accuracy: 0.9996 - val_loss: 0.0040 - val_accuracy: 1.0000\n",
      "Epoch 18/50\n",
      "145/145 [==============================] - 0s 3ms/step - loss: 0.0038 - accuracy: 0.9996 - val_loss: 0.0038 - val_accuracy: 1.0000\n",
      "Epoch 19/50\n",
      "145/145 [==============================] - 0s 3ms/step - loss: 0.0037 - accuracy: 0.9996 - val_loss: 0.0037 - val_accuracy: 1.0000\n",
      "Epoch 20/50\n",
      "145/145 [==============================] - 0s 2ms/step - loss: 0.0036 - accuracy: 0.9994 - val_loss: 0.0034 - val_accuracy: 1.0000\n",
      "Epoch 21/50\n",
      "145/145 [==============================] - 0s 2ms/step - loss: 0.0036 - accuracy: 0.9994 - val_loss: 0.0033 - val_accuracy: 1.0000\n",
      "Epoch 22/50\n",
      "145/145 [==============================] - 0s 2ms/step - loss: 0.0034 - accuracy: 0.9994 - val_loss: 0.0032 - val_accuracy: 1.0000\n",
      "Epoch 23/50\n",
      "145/145 [==============================] - 0s 2ms/step - loss: 0.0031 - accuracy: 0.9996 - val_loss: 0.0030 - val_accuracy: 1.0000\n",
      "Epoch 24/50\n",
      "145/145 [==============================] - 0s 2ms/step - loss: 0.0030 - accuracy: 0.9998 - val_loss: 0.0029 - val_accuracy: 1.0000\n",
      "Epoch 25/50\n",
      "145/145 [==============================] - 0s 2ms/step - loss: 0.0027 - accuracy: 0.9998 - val_loss: 0.0028 - val_accuracy: 1.0000\n",
      "Epoch 26/50\n",
      "145/145 [==============================] - 0s 2ms/step - loss: 0.0027 - accuracy: 0.9998 - val_loss: 0.0028 - val_accuracy: 1.0000\n",
      "Epoch 27/50\n",
      "145/145 [==============================] - 0s 3ms/step - loss: 0.0025 - accuracy: 0.9998 - val_loss: 0.0026 - val_accuracy: 1.0000\n",
      "Epoch 28/50\n",
      "145/145 [==============================] - 0s 2ms/step - loss: 0.0022 - accuracy: 1.0000 - val_loss: 0.0025 - val_accuracy: 1.0000\n",
      "Epoch 29/50\n",
      "145/145 [==============================] - 0s 2ms/step - loss: 0.0021 - accuracy: 1.0000 - val_loss: 0.0025 - val_accuracy: 1.0000\n",
      "Epoch 30/50\n",
      "145/145 [==============================] - 0s 2ms/step - loss: 0.0020 - accuracy: 1.0000 - val_loss: 0.0023 - val_accuracy: 1.0000\n",
      "Epoch 31/50\n",
      "145/145 [==============================] - 0s 2ms/step - loss: 0.0020 - accuracy: 1.0000 - val_loss: 0.0022 - val_accuracy: 1.0000\n",
      "Epoch 32/50\n",
      "145/145 [==============================] - 0s 2ms/step - loss: 0.0017 - accuracy: 1.0000 - val_loss: 0.0022 - val_accuracy: 1.0000\n",
      "Epoch 33/50\n",
      "145/145 [==============================] - 0s 2ms/step - loss: 0.0020 - accuracy: 1.0000 - val_loss: 0.0020 - val_accuracy: 1.0000\n",
      "Epoch 34/50\n",
      "145/145 [==============================] - 0s 2ms/step - loss: 0.0015 - accuracy: 1.0000 - val_loss: 0.0020 - val_accuracy: 1.0000\n",
      "Epoch 35/50\n",
      "145/145 [==============================] - 0s 2ms/step - loss: 0.0016 - accuracy: 1.0000 - val_loss: 0.0018 - val_accuracy: 1.0000\n",
      "Epoch 36/50\n",
      "145/145 [==============================] - 0s 2ms/step - loss: 0.0015 - accuracy: 1.0000 - val_loss: 0.0017 - val_accuracy: 1.0000\n",
      "Epoch 37/50\n",
      "145/145 [==============================] - 0s 2ms/step - loss: 0.0013 - accuracy: 1.0000 - val_loss: 0.0017 - val_accuracy: 1.0000\n",
      "Epoch 38/50\n",
      "145/145 [==============================] - 0s 2ms/step - loss: 0.0045 - accuracy: 0.9989 - val_loss: 0.0072 - val_accuracy: 0.9975\n",
      "Epoch 39/50\n",
      "145/145 [==============================] - 0s 2ms/step - loss: 0.0651 - accuracy: 0.9846 - val_loss: 0.0038 - val_accuracy: 1.0000\n",
      "Epoch 40/50\n",
      "145/145 [==============================] - 0s 3ms/step - loss: 0.0017 - accuracy: 1.0000 - val_loss: 0.0023 - val_accuracy: 1.0000\n",
      "Epoch 41/50\n",
      "145/145 [==============================] - 0s 2ms/step - loss: 0.0014 - accuracy: 1.0000 - val_loss: 0.0021 - val_accuracy: 1.0000\n",
      "Epoch 42/50\n",
      "145/145 [==============================] - 0s 2ms/step - loss: 0.0012 - accuracy: 1.0000 - val_loss: 0.0020 - val_accuracy: 1.0000\n",
      "Epoch 43/50\n",
      "145/145 [==============================] - 0s 2ms/step - loss: 0.0012 - accuracy: 1.0000 - val_loss: 0.0020 - val_accuracy: 1.0000\n",
      "Epoch 44/50\n",
      "145/145 [==============================] - 0s 2ms/step - loss: 0.0011 - accuracy: 1.0000 - val_loss: 0.0019 - val_accuracy: 1.0000\n",
      "Epoch 45/50\n",
      "145/145 [==============================] - 0s 2ms/step - loss: 0.0010 - accuracy: 1.0000 - val_loss: 0.0019 - val_accuracy: 1.0000\n",
      "Epoch 46/50\n",
      "145/145 [==============================] - 0s 2ms/step - loss: 9.8538e-04 - accuracy: 1.0000 - val_loss: 0.0018 - val_accuracy: 1.0000\n",
      "Epoch 47/50\n",
      "145/145 [==============================] - 0s 2ms/step - loss: 9.5546e-04 - accuracy: 1.0000 - val_loss: 0.0018 - val_accuracy: 1.0000\n",
      "Epoch 48/50\n",
      "145/145 [==============================] - 0s 2ms/step - loss: 9.2829e-04 - accuracy: 1.0000 - val_loss: 0.0017 - val_accuracy: 1.0000\n",
      "Epoch 49/50\n",
      "145/145 [==============================] - 0s 2ms/step - loss: 8.9033e-04 - accuracy: 1.0000 - val_loss: 0.0016 - val_accuracy: 1.0000\n",
      "Epoch 50/50\n",
      "145/145 [==============================] - 0s 2ms/step - loss: 8.9283e-04 - accuracy: 1.0000 - val_loss: 0.0015 - val_accuracy: 1.0000\n"
     ]
    },
    {
     "data": {
      "text/plain": [
       "<keras.callbacks.History at 0x2567b615b08>"
      ]
     },
     "execution_count": 22,
     "metadata": {},
     "output_type": "execute_result"
    }
   ],
   "source": [
    "model.fit(\n",
    "    train_ds,\n",
    "    validation_data=val_ds,\n",
    "    epochs=50, callbacks=[tensorboard]\n",
    ")\n"
   ]
  },
  {
   "cell_type": "code",
   "execution_count": 23,
   "metadata": {},
   "outputs": [
    {
     "name": "stdout",
     "output_type": "stream",
     "text": [
      "INFO:tensorflow:Assets written to: item_reader_seq.model\\assets\n"
     ]
    }
   ],
   "source": [
    "model_name = \"item_reader_seq.model\"\n",
    "model.save(model_name)"
   ]
  },
  {
   "cell_type": "code",
   "execution_count": 21,
   "metadata": {},
   "outputs": [],
   "source": [
    "# import numpy as np\n",
    "# import cv2\n",
    "# X=[]\n",
    "# y=[]\n",
    "\n",
    "# for index, batch in enumerate(val_ds):\n",
    "#     X, y = batch\n",
    "#     X = X.numpy()\n",
    "#     y = y.numpy()\n",
    "    \n",
    "#     y_predict = model.predict(X)\n",
    "#     y_predict = np.argmax(y_predict, axis=1)\n",
    "#     # for i in range(32):\n",
    "#     #     if y[i]!=y_predict[i]:\n",
    "#     #         print(index, i)\n",
    "#     #         cv2.imwrite(f\"{random.randint(1, 100)}.png\", X[i])\n",
    "    \n",
    "#     cv2.imshow('image', X[0]) \n",
    "#     cv2.imwrite(\"image.png\", cv2.cvtColor(X[0], cv2.COLOR_RGB2BGR))\n",
    "#     cv2.waitKey(0)\n",
    "    \n",
    "#     print(class_names[y[0]], class_names[y_predict[0]])\n",
    "#     # print(y_predict)\n",
    "#     # break\n",
    "\n"
   ]
  },
  {
   "cell_type": "code",
   "execution_count": null,
   "metadata": {},
   "outputs": [],
   "source": []
  }
 ],
 "metadata": {
  "interpreter": {
   "hash": "684b1123683431d89d3bfe9a89cc763215f4b8cd94b4aba1fb40ad45ff7c8b41"
  },
  "kernelspec": {
   "display_name": "Python 3.7.4 64-bit",
   "name": "python3"
  },
  "language_info": {
   "codemirror_mode": {
    "name": "ipython",
    "version": 3
   },
   "file_extension": ".py",
   "mimetype": "text/x-python",
   "name": "python",
   "nbconvert_exporter": "python",
   "pygments_lexer": "ipython3",
   "version": "3.7.4"
  },
  "orig_nbformat": 4
 },
 "nbformat": 4,
 "nbformat_minor": 2
}
