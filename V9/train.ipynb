{
 "cells": [
  {
   "cell_type": "code",
   "execution_count": 15,
   "metadata": {},
   "outputs": [],
   "source": [
    "import numpy as np\n",
    "import os\n",
    "import PIL\n",
    "import PIL.Image\n",
    "import tensorflow as tf"
   ]
  },
  {
   "cell_type": "code",
   "execution_count": 16,
   "metadata": {},
   "outputs": [
    {
     "name": "stdout",
     "output_type": "stream",
     "text": [
      "Found 6598 files belonging to 42 classes.\n",
      "Using 4619 files for training.\n",
      "Found 6598 files belonging to 42 classes.\n",
      "Using 1979 files for validation.\n"
     ]
    }
   ],
   "source": [
    "batch_size = 32\n",
    "img_height = 16\n",
    "img_width = 8\n",
    "\n",
    "train_ds = tf.keras.utils.image_dataset_from_directory(\n",
    "    \"Dataset\",\n",
    "    validation_split=0.3,\n",
    "    subset=\"training\",\n",
    "    seed=123,\n",
    "    image_size=(img_height, img_width),\n",
    "    batch_size=batch_size)\n",
    "\n",
    "val_ds = tf.keras.utils.image_dataset_from_directory(\n",
    "    \"Dataset\",\n",
    "    validation_split=0.3,\n",
    "    subset=\"validation\",\n",
    "    seed=123,\n",
    "    image_size=(img_height, img_width),\n",
    "    batch_size=batch_size)\n",
    "    \n",
    "normalization_layer = tf.keras.layers.Rescaling(1./255)"
   ]
  },
  {
   "cell_type": "code",
   "execution_count": 17,
   "metadata": {},
   "outputs": [
    {
     "name": "stdout",
     "output_type": "stream",
     "text": [
      "0.08627451 0.6313726\n"
     ]
    }
   ],
   "source": [
    "normalized_ds = train_ds.map(lambda x, y: (normalization_layer(x), y))\n",
    "image_batch, labels_batch = next(iter(normalized_ds))\n",
    "first_image = image_batch[0]\n",
    "# Notice the pixel values are now in `[0,1]`.\n",
    "print(np.min(first_image), np.max(first_image))\n",
    "\n",
    "AUTOTUNE = tf.data.AUTOTUNE\n",
    "\n",
    "train_ds = train_ds.cache().prefetch(buffer_size=AUTOTUNE)\n",
    "val_ds = val_ds.cache().prefetch(buffer_size=AUTOTUNE)"
   ]
  },
  {
   "cell_type": "code",
   "execution_count": 18,
   "metadata": {},
   "outputs": [],
   "source": [
    "num_classes = len(os.listdir(\"Dataset\"))\n",
    "\n",
    "model = tf.keras.Sequential([\n",
    "  tf.keras.layers.Rescaling(1./255),\n",
    "  tf.keras.layers.Flatten(),\n",
    "  tf.keras.layers.Dense(196, activation='relu'),\n",
    "  tf.keras.layers.Dense(128, activation='relu'),\n",
    "  # tf.keras.layers.Dense(64, activation='relu'),\n",
    "  tf.keras.layers.Dense(num_classes, activation=tf.nn.softmax)\n",
    "])"
   ]
  },
  {
   "cell_type": "code",
   "execution_count": 19,
   "metadata": {},
   "outputs": [],
   "source": [
    "opt = tf.keras.optimizers.Adam(lr=0.001, decay=5*1e-6)\n",
    "# model.compile(optimizer=opt, \n",
    "model.compile(optimizer='adam', \n",
    "              loss='sparse_categorical_crossentropy', \n",
    "              metrics=['accuracy'])\n",
    "\n",
    "from tensorflow.keras.callbacks import TensorBoard\n",
    "import random\n",
    "NAME = \"basic\"+str(random.randint(1,1000))\n",
    "tensorboard = TensorBoard(log_dir='logs/{}'.format(NAME))\n",
    "# cd \"C:\\src\\Python\\Smart Clicker\\V9\\\"\n",
    "# tensorboard --logdir=\"logs/\""
   ]
  },
  {
   "cell_type": "code",
   "execution_count": 53,
   "metadata": {},
   "outputs": [
    {
     "name": "stdout",
     "output_type": "stream",
     "text": [
      "Epoch 1/50\n",
      "145/145 [==============================] - 1s 3ms/step - loss: 0.0012 - accuracy: 1.0000 - val_loss: 0.0013 - val_accuracy: 0.9995\n",
      "Epoch 2/50\n",
      "145/145 [==============================] - 0s 3ms/step - loss: 0.0516 - accuracy: 0.9866 - val_loss: 0.0300 - val_accuracy: 0.9934\n",
      "Epoch 3/50\n",
      "145/145 [==============================] - 0s 3ms/step - loss: 0.0065 - accuracy: 0.9991 - val_loss: 0.0022 - val_accuracy: 0.9995\n",
      "Epoch 4/50\n",
      "145/145 [==============================] - 0s 3ms/step - loss: 0.0012 - accuracy: 1.0000 - val_loss: 0.0021 - val_accuracy: 0.9995\n",
      "Epoch 5/50\n",
      "145/145 [==============================] - 0s 3ms/step - loss: 0.0011 - accuracy: 1.0000 - val_loss: 0.0021 - val_accuracy: 0.9995\n",
      "Epoch 6/50\n",
      "145/145 [==============================] - 1s 4ms/step - loss: 9.9273e-04 - accuracy: 1.0000 - val_loss: 0.0019 - val_accuracy: 0.9995\n",
      "Epoch 7/50\n",
      "145/145 [==============================] - 0s 3ms/step - loss: 8.9042e-04 - accuracy: 1.0000 - val_loss: 0.0017 - val_accuracy: 0.9995\n",
      "Epoch 8/50\n",
      "145/145 [==============================] - 0s 3ms/step - loss: 9.1147e-04 - accuracy: 1.0000 - val_loss: 0.0014 - val_accuracy: 0.9995\n",
      "Epoch 9/50\n",
      "145/145 [==============================] - 0s 3ms/step - loss: 7.4757e-04 - accuracy: 1.0000 - val_loss: 0.0014 - val_accuracy: 0.9995\n",
      "Epoch 10/50\n",
      "145/145 [==============================] - 0s 3ms/step - loss: 7.9979e-04 - accuracy: 1.0000 - val_loss: 0.0011 - val_accuracy: 0.9995\n",
      "Epoch 11/50\n",
      "145/145 [==============================] - 0s 3ms/step - loss: 7.3511e-04 - accuracy: 1.0000 - val_loss: 0.0011 - val_accuracy: 0.9995\n",
      "Epoch 12/50\n",
      "145/145 [==============================] - 1s 4ms/step - loss: 0.0606 - accuracy: 0.9846 - val_loss: 0.0401 - val_accuracy: 0.9884\n",
      "Epoch 13/50\n",
      "145/145 [==============================] - 0s 3ms/step - loss: 0.0215 - accuracy: 0.9937 - val_loss: 0.0038 - val_accuracy: 0.9985\n",
      "Epoch 14/50\n",
      "145/145 [==============================] - 0s 3ms/step - loss: 0.0015 - accuracy: 1.0000 - val_loss: 0.0013 - val_accuracy: 0.9995\n",
      "Epoch 15/50\n",
      "145/145 [==============================] - 0s 3ms/step - loss: 4.2723e-04 - accuracy: 1.0000 - val_loss: 0.0012 - val_accuracy: 0.9995\n",
      "Epoch 16/50\n",
      "145/145 [==============================] - 0s 3ms/step - loss: 3.6763e-04 - accuracy: 1.0000 - val_loss: 0.0011 - val_accuracy: 0.9995\n",
      "Epoch 17/50\n",
      "145/145 [==============================] - 0s 3ms/step - loss: 3.2763e-04 - accuracy: 1.0000 - val_loss: 0.0010 - val_accuracy: 0.9995\n",
      "Epoch 18/50\n",
      "145/145 [==============================] - 0s 3ms/step - loss: 2.9826e-04 - accuracy: 1.0000 - val_loss: 0.0010 - val_accuracy: 0.9995\n",
      "Epoch 19/50\n",
      "145/145 [==============================] - 0s 3ms/step - loss: 2.7568e-04 - accuracy: 1.0000 - val_loss: 0.0010 - val_accuracy: 0.9995\n",
      "Epoch 20/50\n",
      "145/145 [==============================] - 0s 3ms/step - loss: 2.5783e-04 - accuracy: 1.0000 - val_loss: 9.7947e-04 - val_accuracy: 0.9995\n",
      "Epoch 21/50\n",
      "145/145 [==============================] - 0s 3ms/step - loss: 2.4168e-04 - accuracy: 1.0000 - val_loss: 9.5549e-04 - val_accuracy: 0.9995\n",
      "Epoch 22/50\n",
      "145/145 [==============================] - 0s 3ms/step - loss: 2.2814e-04 - accuracy: 1.0000 - val_loss: 9.3358e-04 - val_accuracy: 0.9995\n",
      "Epoch 23/50\n",
      "145/145 [==============================] - 0s 3ms/step - loss: 2.1562e-04 - accuracy: 1.0000 - val_loss: 9.0991e-04 - val_accuracy: 0.9995\n",
      "Epoch 24/50\n",
      "145/145 [==============================] - 0s 3ms/step - loss: 2.0457e-04 - accuracy: 1.0000 - val_loss: 8.9226e-04 - val_accuracy: 0.9995\n",
      "Epoch 25/50\n",
      "145/145 [==============================] - 0s 3ms/step - loss: 1.9497e-04 - accuracy: 1.0000 - val_loss: 8.8102e-04 - val_accuracy: 0.9995\n",
      "Epoch 26/50\n",
      "145/145 [==============================] - 1s 4ms/step - loss: 1.8783e-04 - accuracy: 1.0000 - val_loss: 8.6959e-04 - val_accuracy: 0.9995\n",
      "Epoch 27/50\n",
      "145/145 [==============================] - 0s 3ms/step - loss: 1.8442e-04 - accuracy: 1.0000 - val_loss: 8.5079e-04 - val_accuracy: 0.9995\n",
      "Epoch 28/50\n",
      "145/145 [==============================] - 1s 3ms/step - loss: 1.8233e-04 - accuracy: 1.0000 - val_loss: 8.3317e-04 - val_accuracy: 0.9995\n",
      "Epoch 29/50\n",
      "145/145 [==============================] - 0s 3ms/step - loss: 1.6951e-04 - accuracy: 1.0000 - val_loss: 8.2910e-04 - val_accuracy: 0.9995\n",
      "Epoch 30/50\n",
      "145/145 [==============================] - 0s 3ms/step - loss: 1.6292e-04 - accuracy: 1.0000 - val_loss: 8.1106e-04 - val_accuracy: 0.9995\n",
      "Epoch 31/50\n",
      "145/145 [==============================] - 0s 3ms/step - loss: 1.4785e-04 - accuracy: 1.0000 - val_loss: 8.1216e-04 - val_accuracy: 0.9995\n",
      "Epoch 32/50\n",
      "145/145 [==============================] - 0s 3ms/step - loss: 1.4356e-04 - accuracy: 1.0000 - val_loss: 7.8546e-04 - val_accuracy: 0.9995\n",
      "Epoch 33/50\n",
      "145/145 [==============================] - 0s 3ms/step - loss: 1.2937e-04 - accuracy: 1.0000 - val_loss: 7.9027e-04 - val_accuracy: 0.9995\n",
      "Epoch 34/50\n",
      "145/145 [==============================] - 1s 4ms/step - loss: 1.3832e-04 - accuracy: 1.0000 - val_loss: 7.6185e-04 - val_accuracy: 0.9995\n",
      "Epoch 35/50\n",
      "145/145 [==============================] - 0s 3ms/step - loss: 1.2913e-04 - accuracy: 1.0000 - val_loss: 7.4250e-04 - val_accuracy: 0.9995\n",
      "Epoch 36/50\n",
      "145/145 [==============================] - 0s 3ms/step - loss: 1.1257e-04 - accuracy: 1.0000 - val_loss: 6.9153e-04 - val_accuracy: 0.9995\n",
      "Epoch 37/50\n",
      "145/145 [==============================] - 0s 3ms/step - loss: 1.0049e-04 - accuracy: 1.0000 - val_loss: 7.9718e-04 - val_accuracy: 0.9995\n",
      "Epoch 38/50\n",
      "145/145 [==============================] - 0s 3ms/step - loss: 0.1373 - accuracy: 0.9708 - val_loss: 0.2034 - val_accuracy: 0.9282\n",
      "Epoch 39/50\n",
      "145/145 [==============================] - 0s 3ms/step - loss: 0.0149 - accuracy: 0.9965 - val_loss: 0.0033 - val_accuracy: 0.9995\n",
      "Epoch 40/50\n",
      "145/145 [==============================] - 0s 3ms/step - loss: 0.0015 - accuracy: 1.0000 - val_loss: 0.0024 - val_accuracy: 0.9995\n",
      "Epoch 41/50\n",
      "145/145 [==============================] - 0s 3ms/step - loss: 0.0010 - accuracy: 1.0000 - val_loss: 0.0019 - val_accuracy: 0.9995\n",
      "Epoch 42/50\n",
      "145/145 [==============================] - 1s 4ms/step - loss: 7.7257e-04 - accuracy: 1.0000 - val_loss: 0.0016 - val_accuracy: 0.9995\n",
      "Epoch 43/50\n",
      "145/145 [==============================] - 0s 3ms/step - loss: 6.3712e-04 - accuracy: 1.0000 - val_loss: 0.0015 - val_accuracy: 0.9995\n",
      "Epoch 44/50\n",
      "145/145 [==============================] - 0s 3ms/step - loss: 5.4778e-04 - accuracy: 1.0000 - val_loss: 0.0013 - val_accuracy: 0.9995\n",
      "Epoch 45/50\n",
      "145/145 [==============================] - 0s 3ms/step - loss: 4.8339e-04 - accuracy: 1.0000 - val_loss: 0.0012 - val_accuracy: 0.9995\n",
      "Epoch 46/50\n",
      "145/145 [==============================] - 0s 3ms/step - loss: 4.3414e-04 - accuracy: 1.0000 - val_loss: 0.0011 - val_accuracy: 0.9995\n",
      "Epoch 47/50\n",
      "145/145 [==============================] - 1s 4ms/step - loss: 3.9219e-04 - accuracy: 1.0000 - val_loss: 0.0011 - val_accuracy: 0.9995\n",
      "Epoch 48/50\n",
      "145/145 [==============================] - 0s 3ms/step - loss: 3.5861e-04 - accuracy: 1.0000 - val_loss: 0.0010 - val_accuracy: 0.9995\n",
      "Epoch 49/50\n",
      "145/145 [==============================] - 0s 3ms/step - loss: 3.3032e-04 - accuracy: 1.0000 - val_loss: 0.0010 - val_accuracy: 0.9995\n",
      "Epoch 50/50\n",
      "145/145 [==============================] - 0s 3ms/step - loss: 3.0584e-04 - accuracy: 1.0000 - val_loss: 9.7529e-04 - val_accuracy: 0.9995\n"
     ]
    },
    {
     "data": {
      "text/plain": [
       "<keras.callbacks.History at 0x20b42bf2848>"
      ]
     },
     "execution_count": 53,
     "metadata": {},
     "output_type": "execute_result"
    }
   ],
   "source": [
    "model.fit(\n",
    "    train_ds,\n",
    "    validation_data=val_ds,\n",
    "    epochs=50, callbacks=[tensorboard]\n",
    ")\n"
   ]
  },
  {
   "cell_type": "code",
   "execution_count": 26,
   "metadata": {},
   "outputs": [
    {
     "name": "stdout",
     "output_type": "stream",
     "text": [
      "62/62 [==============================] - 0s 1ms/step - loss: 0.0014 - accuracy: 0.9995\n"
     ]
    }
   ],
   "source": [
    "val_loss, val_acc = model.evaluate(val_ds)\n",
    "\n"
   ]
  },
  {
   "cell_type": "code",
   "execution_count": 66,
   "metadata": {},
   "outputs": [
    {
     "name": "stdout",
     "output_type": "stream",
     "text": [
      "35 2\n"
     ]
    },
    {
     "ename": "IndexError",
     "evalue": "index 27 is out of bounds for axis 0 with size 27",
     "output_type": "error",
     "traceback": [
      "\u001b[1;31m---------------------------------------------------------------------------\u001b[0m",
      "\u001b[1;31mIndexError\u001b[0m                                Traceback (most recent call last)",
      "\u001b[1;32m<ipython-input-66-2a11caa9099f>\u001b[0m in \u001b[0;36m<module>\u001b[1;34m\u001b[0m\n\u001b[0;32m     12\u001b[0m     \u001b[0my_predict\u001b[0m \u001b[1;33m=\u001b[0m \u001b[0mnp\u001b[0m\u001b[1;33m.\u001b[0m\u001b[0margmax\u001b[0m\u001b[1;33m(\u001b[0m\u001b[0my_predict\u001b[0m\u001b[1;33m,\u001b[0m \u001b[0maxis\u001b[0m\u001b[1;33m=\u001b[0m\u001b[1;36m1\u001b[0m\u001b[1;33m)\u001b[0m\u001b[1;33m\u001b[0m\u001b[1;33m\u001b[0m\u001b[0m\n\u001b[0;32m     13\u001b[0m     \u001b[1;32mfor\u001b[0m \u001b[0mi\u001b[0m \u001b[1;32min\u001b[0m \u001b[0mrange\u001b[0m\u001b[1;33m(\u001b[0m\u001b[1;36m32\u001b[0m\u001b[1;33m)\u001b[0m\u001b[1;33m:\u001b[0m\u001b[1;33m\u001b[0m\u001b[1;33m\u001b[0m\u001b[0m\n\u001b[1;32m---> 14\u001b[1;33m         \u001b[1;32mif\u001b[0m \u001b[0my\u001b[0m\u001b[1;33m[\u001b[0m\u001b[0mi\u001b[0m\u001b[1;33m]\u001b[0m\u001b[1;33m!=\u001b[0m\u001b[0my_predict\u001b[0m\u001b[1;33m[\u001b[0m\u001b[0mi\u001b[0m\u001b[1;33m]\u001b[0m\u001b[1;33m:\u001b[0m\u001b[1;33m\u001b[0m\u001b[1;33m\u001b[0m\u001b[0m\n\u001b[0m\u001b[0;32m     15\u001b[0m             \u001b[0mprint\u001b[0m\u001b[1;33m(\u001b[0m\u001b[0mindex\u001b[0m\u001b[1;33m,\u001b[0m \u001b[0mi\u001b[0m\u001b[1;33m)\u001b[0m\u001b[1;33m\u001b[0m\u001b[1;33m\u001b[0m\u001b[0m\n\u001b[0;32m     16\u001b[0m             \u001b[0mcv2\u001b[0m\u001b[1;33m.\u001b[0m\u001b[0mimwrite\u001b[0m\u001b[1;33m(\u001b[0m\u001b[1;34mf\"{random.randint(1, 100)}.png\"\u001b[0m\u001b[1;33m,\u001b[0m \u001b[0mX\u001b[0m\u001b[1;33m[\u001b[0m\u001b[0mi\u001b[0m\u001b[1;33m]\u001b[0m\u001b[1;33m)\u001b[0m\u001b[1;33m\u001b[0m\u001b[1;33m\u001b[0m\u001b[0m\n",
      "\u001b[1;31mIndexError\u001b[0m: index 27 is out of bounds for axis 0 with size 27"
     ]
    }
   ],
   "source": [
    "import numpy as np\n",
    "import cv2\n",
    "X=[]\n",
    "y=[]\n",
    "\n",
    "for index, batch in enumerate(val_ds):\n",
    "    X, y = batch\n",
    "    X = X.numpy()\n",
    "    y = y.numpy()\n",
    "    \n",
    "    y_predict = model.predict(X)\n",
    "    y_predict = np.argmax(y_predict, axis=1)\n",
    "    for i in range(32):\n",
    "        if y[i]!=y_predict[i]:\n",
    "            print(index, i)\n",
    "            cv2.imwrite(f\"{random.randint(1, 100)}.png\", X[i])\n",
    "    # print(y, y.shape, y_predict.shape, len(val_ds))\n",
    "    # print(y_predict)\n",
    "    # break\n"
   ]
  }
 ],
 "metadata": {
  "interpreter": {
   "hash": "684b1123683431d89d3bfe9a89cc763215f4b8cd94b4aba1fb40ad45ff7c8b41"
  },
  "kernelspec": {
   "display_name": "Python 3.7.4 64-bit",
   "name": "python3"
  },
  "language_info": {
   "codemirror_mode": {
    "name": "ipython",
    "version": 3
   },
   "file_extension": ".py",
   "mimetype": "text/x-python",
   "name": "python",
   "nbconvert_exporter": "python",
   "pygments_lexer": "ipython3",
   "version": "3.7.4"
  },
  "orig_nbformat": 4
 },
 "nbformat": 4,
 "nbformat_minor": 2
}
