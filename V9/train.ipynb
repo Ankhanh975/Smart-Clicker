{
 "cells": [
  {
   "cell_type": "code",
   "execution_count": null,
   "metadata": {},
   "outputs": [],
   "source": [
    "import pickle\n",
    "import time\n",
    "import datetime\n",
    "import random\n",
    "import cv2\n",
    "import numpy as np\n",
    "from tqdm import tqdm\n",
    "import tensorflow as tf\n",
    "from tensorflow.keras.models import Sequential\n",
    "from tensorflow.keras.layers import Dense, Dropout, Activation, Flatten\n",
    "from tensorflow.keras.layers import Conv2D, MaxPooling2D\n",
    "from tensorflow.keras.callbacks import TensorBoard\n",
    "from tensorflow.keras import layers\n",
    "from tensorflow.keras.models import Model\n",
    "import matplotlib.pyplot as plt\n",
    "\n",
    "# # Loading MNIST dataset\n",
    "mnist = tf.keras.datasets.mnist\n",
    "(X_train, y_train), (X_test, y_test) = mnist.load_data()\n",
    "X_train = tf.keras.utils.normalize(X_train, axis=1)\n",
    "X_test = tf.keras.utils.normalize(X_test, axis=1)\n",
    "X_train = X_train.reshape(-1, 28, 28, 1)\n",
    "X_test = X_test.reshape(-1, 28, 28, 1)model = tf.keras.models.Sequential()\n",
    "# Input Layer\n",
    "\n",
    "# model.add(layers.Dense(128, activation=tf.nn.relu))\n",
    "# model.add(Conv2D(1, 3, activation='relu', padding='same', input_shape=(28, 28, 1)))\n",
    "model.add(layers.Flatten())\n",
    "model.add(layers.Dense(128, activation=tf.nn.relu))\n",
    "model.add(layers.Dense(64, activation=tf.nn.relu))\n",
    "model.add(layers.Dense(10, activation=tf.nn.softmax))\n",
    "model.compile(optimizer='adam',\n",
    "              loss='sparse_categorical_crossentropy',\n",
    "              metrics=['accuracy'])\n",
    "\n",
    "\n",
    "NAME = \"randomFlip\"+ str(time.time())\n",
    "tensorboard = TensorBoard(log_dir='logs/{}'.format(NAME))\n",
    "# cd \"C:\\Users\\Admin\\Desktop\\HTML\\NEURAL NETWORK\"\n",
    "# tensorboard --logdir=\"logs/\"\n",
    "# \n",
    "model.fit(X_train, y_train, batch_size=64, epochs=10,\n",
    "          validation_data=(X_test, y_test), callbacks=[tensorboard])\n",
    "model.summary()\n",
    "\n"
   ]
  }
 ],
 "metadata": {
  "language_info": {
   "name": "python"
  },
  "orig_nbformat": 4
 },
 "nbformat": 4,
 "nbformat_minor": 2
}
