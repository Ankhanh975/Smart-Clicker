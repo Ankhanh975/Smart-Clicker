{
 "cells": [
  {
   "cell_type": "code",
   "execution_count": 35,
   "metadata": {},
   "outputs": [],
   "source": [
    "import sys\n",
    "import win32gui as wgui\n",
    "import win32process as wproc\n",
    "import win32api as wapi\n",
    "import time\n",
    "import time\n",
    "import winAPIIn\n",
    "import win32gui\n",
    "from win32gui import GetWindowText, GetForegroundWindow\n",
    "\n",
    "import win32api\n",
    "from win32con import *\n",
    "\n",
    "# def main(*argv):\n",
    "#     if not argv:\n",
    "#         window_name = input(\"Enter window name: \")\n",
    "#     else:\n",
    "#         window_name = argv[0]\n",
    "\n",
    "#     handle = wgui.FindWindow(None, window_name)\n",
    "#     print(\"Window `{0:s}` handle: 0x{1:016X}\".format(window_name, handle))\n",
    "#     if not handle:\n",
    "#         print(\"Invalid window handle\")\n",
    "#         return\n",
    "#     remote_thread, _ = wproc.GetWindowThreadProcessId(handle)\n",
    "#     wproc.AttachThreadInput(wapi.GetCurrentThreadId(), remote_thread, True)\n",
    "#     prev_handle = wgui.SetFocus(handle)\n",
    "\n",
    "\n",
    "# if __name__ == \"__main__\":\n",
    "#     print(\"Python {0:s} {1:d}bit on {2:s}\\n\".format(\" \".join(item.strip() for item in sys.version.split(\"\\n\")), 64 if sys.maxsize > 0x100000000 else 32, sys.platform))\n",
    "#     main(\"V9\")\n",
    "#     print(\"\\nDone.\")\n"
   ]
  },
  {
   "cell_type": "code",
   "execution_count": 42,
   "metadata": {},
   "outputs": [
    {
     "name": "stdout",
     "output_type": "stream",
     "text": [
      "(744, 650) 263182 Chrome Legacy Window\n"
     ]
    }
   ],
   "source": [
    "x = winAPIIn.getPos()\n",
    "hwnd = win32gui.WindowFromPoint((100,100))\n",
    "print(x, hwnd, GetWindowText(hwnd))\n"
   ]
  },
  {
   "cell_type": "code",
   "execution_count": 45,
   "metadata": {},
   "outputs": [
    {
     "name": "stdout",
     "output_type": "stream",
     "text": [
      "(676, 131) 263182 328158\n",
      "(676, 131) 263182 328158\n",
      "(676, 131) 263182 787792\n",
      "(676, 131) 263182 787792\n",
      "(617, 131) 263182 787792\n",
      "(393, 86) 787792 787792\n",
      "(393, 83) 787792 787792\n",
      "(393, 83) 787792 787792\n",
      "(393, 83) 787792 787792\n",
      "(393, 83) 787792 787792\n",
      "(427, 267) 263182 787792\n",
      "(427, 267) 263182 787792\n",
      "(427, 267) 263182 787792\n",
      "(427, 267) 263182 787792\n",
      "(427, 267) 263182 787792\n",
      "(361, 69) 787792 787792\n",
      "(358, 61) 787792 787792\n",
      "(358, 61) 787792 787792\n",
      "(941, 207) 197460 787792\n",
      "(1456, 345) 853058 787792\n",
      "(1454, 345) 853058 787792\n",
      "(1452, 345) 853058 787792\n",
      "(983, 309) 853058 787792\n",
      "(578, 245) 263182 787792\n",
      "(578, 245) 263182 787792\n",
      "(578, 245) 263182 787792\n",
      "(1187, 350) 853058 787792\n",
      "(1264, 358) 853058 787792\n",
      "(1264, 358) 853058 787792\n",
      "(1261, 358) 853058 787792\n",
      "(1245, 323) 853058 787792\n",
      "(1296, 49) 65844 787792\n",
      "(1296, 49) 65844 787792\n",
      "(1296, 34) 65844 787792\n",
      "(1296, 33) 65844 787792\n",
      "(1296, 33) 65844 787792\n",
      "(1296, 33) 65844 787792\n",
      "(1296, 33) 65844 787792\n",
      "(1296, 33) 65844 787792\n",
      "(1296, 33) 65844 787792\n",
      "(1296, 33) 65844 787792\n",
      "(1296, 33) 65844 787792\n",
      "(1299, 362) 853058 787792\n",
      "(1314, 417) 853058 787792\n",
      "(1314, 417) 853058 787792\n",
      "(1310, 417) 853058 787792\n",
      "(1310, 417) 853058 787792\n",
      "(1310, 417) 853058 787792\n",
      "(1310, 417) 853058 787792\n",
      "(1310, 417) 853058 787792\n",
      "(1310, 417) 853058 787792\n",
      "(1310, 417) 853058 787792\n",
      "(1309, 405) 853058 787792\n",
      "(1269, 33) 65844 787792\n",
      "(1271, 17) 65844 787792\n"
     ]
    }
   ],
   "source": [
    "for x in range(55):\n",
    "    time.sleep(0.2)\n",
    "    x = winAPIIn.getPos()\n",
    "    hwnd = win32gui.WindowFromPoint(x)\n",
    "    y = win32gui.GetForegroundWindow()\n",
    "    print(x, hwnd, y)"
   ]
  }
 ],
 "metadata": {
  "interpreter": {
   "hash": "684b1123683431d89d3bfe9a89cc763215f4b8cd94b4aba1fb40ad45ff7c8b41"
  },
  "kernelspec": {
   "display_name": "Python 3.7.4 64-bit",
   "language": "python",
   "name": "python3"
  },
  "language_info": {
   "codemirror_mode": {
    "name": "ipython",
    "version": 3
   },
   "file_extension": ".py",
   "mimetype": "text/x-python",
   "name": "python",
   "nbconvert_exporter": "python",
   "pygments_lexer": "ipython3",
   "version": "3.7.4"
  },
  "orig_nbformat": 4
 },
 "nbformat": 4,
 "nbformat_minor": 2
}
