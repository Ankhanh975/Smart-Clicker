{
 "cells": [
  {
   "cell_type": "code",
   "execution_count": 1,
   "metadata": {},
   "outputs": [],
   "source": [
    "import numpy as np\n",
    "\n",
    "x=np.asarray([[[671, 577], [746, 581], [819, 582], [891, 585], [955, 579],\n",
    "                 [1039, 581], [1084, 582], [1174, 580], [1241, 575]],\n",
    "                 [[676, 634], [741, 639], [815, 644], [908, 636], [964, 638],\n",
    "                 [1043, 648], [1115, 648], [1174, 648], [1243, 645]],\n",
    "                 [[665, 716], [751, 723], [813, 719], [908, 718], [959, 724],\n",
    "                 [1032, 714], [1108, 724], [1187, 736], [1232, 727]],\n",
    "                 [[674, 813], [742, 811], [823, 806], [890, 810], [967, 818],\n",
    "                  [1029, 823], [1103, 819], [1171, 818], [1236, 815]]])"
   ]
  },
  {
   "cell_type": "code",
   "execution_count": 10,
   "metadata": {},
   "outputs": [
    {
     "data": {
      "text/plain": [
       "True"
      ]
     },
     "execution_count": 10,
     "metadata": {},
     "output_type": "execute_result"
    }
   ],
   "source": [
    "x[0][0][0] in [671, 2]"
   ]
  },
  {
   "cell_type": "code",
   "execution_count": 9,
   "metadata": {},
   "outputs": [
    {
     "data": {
      "text/plain": [
       "4.90625"
      ]
     },
     "execution_count": 9,
     "metadata": {},
     "output_type": "execute_result"
    }
   ],
   "source": [
    "157/ 32 "
   ]
  }
 ],
 "metadata": {
  "interpreter": {
   "hash": "684b1123683431d89d3bfe9a89cc763215f4b8cd94b4aba1fb40ad45ff7c8b41"
  },
  "kernelspec": {
   "display_name": "Python 3.7.4 64-bit",
   "language": "python",
   "name": "python3"
  },
  "language_info": {
   "codemirror_mode": {
    "name": "ipython",
    "version": 3
   },
   "file_extension": ".py",
   "mimetype": "text/x-python",
   "name": "python",
   "nbconvert_exporter": "python",
   "pygments_lexer": "ipython3",
   "version": "3.9.1"
  },
  "orig_nbformat": 4
 },
 "nbformat": 4,
 "nbformat_minor": 2
}
