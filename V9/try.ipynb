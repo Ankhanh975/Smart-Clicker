{
 "cells": [
  {
   "cell_type": "code",
   "execution_count": 42,
   "metadata": {},
   "outputs": [],
   "source": [
    "from win32gui import GetWindowText, GetForegroundWindow\n",
    "from _main import *\n",
    "import win32gui\n",
    "import win32api\n",
    "from Lib import _List\n",
    "from functools import cache, lru_cache\n",
    "\n",
    "@cache\n",
    "def __getWindowName(windowId):\n",
    "    # cache because windowId is a constant in a window lifetime\n",
    "    # so GetWindowText(windowId) is a constant for every windowId\n",
    "    return GetWindowText(windowId)\n",
    "    \n",
    "def getActiveWindowName():\n",
    "    return __getWindowName(GetForegroundWindow())\n",
    "\n",
    "def getActiveWindowName2():\n",
    "    return GetWindowText(GetForegroundWindow())\n",
    "\n",
    "@lru_cache(maxsize=None)\n",
    "def __getWindowName3(windowId):\n",
    "    # cache because windowId is a constant in a window lifetime\n",
    "    # so GetWindowText(windowId) is a constant for every windowId\n",
    "    return GetWindowText(windowId)\n",
    "    \n",
    "def getActiveWindowName3():\n",
    "    return __getWindowName3(GetForegroundWindow())"
   ]
  },
  {
   "cell_type": "code",
   "execution_count": 23,
   "metadata": {},
   "outputs": [
    {
     "name": "stdout",
     "output_type": "stream",
     "text": [
      "7.57 µs ± 820 ns per loop (mean ± std. dev. of 7 runs, 100000 loops each)\n"
     ]
    }
   ],
   "source": [
    "%%timeit\n",
    "GetWindowText(GetForegroundWindow())"
   ]
  },
  {
   "cell_type": "code",
   "execution_count": 24,
   "metadata": {},
   "outputs": [
    {
     "name": "stdout",
     "output_type": "stream",
     "text": [
      "2.21 µs ± 160 ns per loop (mean ± std. dev. of 7 runs, 100000 loops each)\n"
     ]
    }
   ],
   "source": [
    "%%timeit\n",
    "__getWindowName(GetForegroundWindow())"
   ]
  },
  {
   "cell_type": "code",
   "execution_count": 25,
   "metadata": {},
   "outputs": [
    {
     "name": "stdout",
     "output_type": "stream",
     "text": [
      "6.89 µs ± 443 ns per loop (mean ± std. dev. of 7 runs, 100000 loops each)\n"
     ]
    }
   ],
   "source": [
    "%%timeit\n",
    "getActiveWindowName2()\n"
   ]
  },
  {
   "cell_type": "code",
   "execution_count": 51,
   "metadata": {},
   "outputs": [
    {
     "name": "stdout",
     "output_type": "stream",
     "text": [
      "2.89 µs ± 578 ns per loop (mean ± std. dev. of 7 runs, 100000 loops each)\n"
     ]
    }
   ],
   "source": [
    "%%timeit\n",
    "getActiveWindowName()"
   ]
  },
  {
   "cell_type": "code",
   "execution_count": 52,
   "metadata": {},
   "outputs": [
    {
     "name": "stdout",
     "output_type": "stream",
     "text": [
      "2.29 µs ± 174 ns per loop (mean ± std. dev. of 7 runs, 100000 loops each)\n"
     ]
    }
   ],
   "source": [
    "%%timeit\n",
    "getActiveWindowName3()\n"
   ]
  }
 ],
 "metadata": {
  "interpreter": {
   "hash": "d62006d1f3422635846181a997a61e8ec3049f797e5d7dfe0cd1bb84092b7c19"
  },
  "kernelspec": {
   "display_name": "Python 3.9.1 64-bit",
   "name": "python3"
  },
  "language_info": {
   "codemirror_mode": {
    "name": "ipython",
    "version": 3
   },
   "file_extension": ".py",
   "mimetype": "text/x-python",
   "name": "python",
   "nbconvert_exporter": "python",
   "pygments_lexer": "ipython3",
   "version": "3.9.1"
  },
  "orig_nbformat": 4
 },
 "nbformat": 4,
 "nbformat_minor": 2
}
