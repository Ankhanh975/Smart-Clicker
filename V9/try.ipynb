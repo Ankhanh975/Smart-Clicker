{
 "cells": [
  {
   "cell_type": "code",
   "execution_count": 17,
   "metadata": {},
   "outputs": [
    {
     "data": {
      "text/plain": [
       "(array([[[18, 18, 18],\n",
       "         [18, 18, 18],\n",
       "         [18, 18, 18],\n",
       "         ...,\n",
       "         [28, 28, 28],\n",
       "         [28, 28, 28],\n",
       "         [28, 28, 28]],\n",
       " \n",
       "        [[18, 18, 18],\n",
       "         [18, 18, 18],\n",
       "         [18, 18, 18],\n",
       "         ...,\n",
       "         [28, 28, 28],\n",
       "         [28, 28, 28],\n",
       "         [28, 28, 28]],\n",
       " \n",
       "        [[18, 18, 18],\n",
       "         [18, 18, 18],\n",
       "         [18, 18, 18],\n",
       "         ...,\n",
       "         [28, 28, 28],\n",
       "         [28, 28, 28],\n",
       "         [28, 28, 28]],\n",
       " \n",
       "        ...,\n",
       " \n",
       "        [[23, 23, 23],\n",
       "         [23, 23, 23],\n",
       "         [23, 23, 23],\n",
       "         ...,\n",
       "         [23, 23, 23],\n",
       "         [23, 23, 23],\n",
       "         [23, 23, 23]],\n",
       " \n",
       "        [[23, 23, 23],\n",
       "         [23, 23, 23],\n",
       "         [23, 23, 23],\n",
       "         ...,\n",
       "         [23, 23, 23],\n",
       "         [23, 23, 23],\n",
       "         [23, 23, 23]],\n",
       " \n",
       "        [[23, 23, 23],\n",
       "         [23, 23, 23],\n",
       "         [23, 23, 23],\n",
       "         ...,\n",
       "         [23, 23, 23],\n",
       "         [23, 23, 23],\n",
       "         [23, 23, 23]]], dtype=uint8),\n",
       " (1080, 1920, 3))"
      ]
     },
     "execution_count": 17,
     "metadata": {},
     "output_type": "execute_result"
    }
   ],
   "source": [
    "import numpy as np\n",
    "import cv2\n",
    "import matplotlib.pyplot as plt\n",
    "\n",
    "# reads image 'opencv-logo.png' as grayscale\n",
    "img = cv2.imread('D:/Bi/Record/javaw 2021-11-04 12-13-17-956.jpg')\n",
    "img = img[]\n",
    "cv2.imshow('image',img)\n",
    "cv2.waitKey(0)\n",
    "img, img.shape\n"
   ]
  },
  {
   "cell_type": "code",
   "execution_count": 2,
   "metadata": {},
   "outputs": [],
   "source": [
    "# from win32gui import GetWindowText, GetForegroundWindow\n",
    "# from _main import *\n",
    "# import win32gui\n",
    "# import win32api\n",
    "# from Lib import _List\n",
    "# from functools import lru_cache\n",
    "\n",
    "# def __getWindowName(windowId):\n",
    "#     # cache because windowId is a constant in a window lifetime\n",
    "#     # so GetWindowText(windowId) is a constant for every windowId\n",
    "#     return GetWindowText(windowId)\n",
    "    \n",
    "# def getActiveWindowName():\n",
    "#     return __getWindowName(GetForegroundWindow())\n",
    "\n",
    "# def getActiveWindowName2():\n",
    "#     return GetWindowText(GetForegroundWindow())\n",
    "\n",
    "# @lru_cache(maxsize=None)\n",
    "# def __getWindowName3(windowId):\n",
    "#     # cache because windowId is a constant in a window lifetime\n",
    "#     # so GetWindowText(windowId) is a constant for every windowId\n",
    "#     return GetWindowText(windowId)\n",
    "    \n",
    "# def getActiveWindowName3():\n",
    "#     return __getWindowName3(GetForegroundWindow())\n",
    "# %%timeit\n",
    "# GetWindowText(GetForegroundWindow())\n",
    "# %%timeit\n",
    "# __getWindowName(GetForegroundWindow())\n",
    "# %%timeit\n",
    "# getActiveWindowName2()\n",
    "\n",
    "# %%timeit\n",
    "# getActiveWindowName()\n",
    "# %%timeit\n",
    "# getActiveWindowName3()\n",
    "\n",
    "# %%timeit\n",
    "# for x in range(120):\n",
    "#     pass\n",
    "\n",
    "# 0x02"
   ]
  }
 ],
 "metadata": {
  "interpreter": {
   "hash": "684b1123683431d89d3bfe9a89cc763215f4b8cd94b4aba1fb40ad45ff7c8b41"
  },
  "kernelspec": {
   "display_name": "Python 3.7.4 64-bit",
   "name": "python3"
  },
  "language_info": {
   "codemirror_mode": {
    "name": "ipython",
    "version": 3
   },
   "file_extension": ".py",
   "mimetype": "text/x-python",
   "name": "python",
   "nbconvert_exporter": "python",
   "pygments_lexer": "ipython3",
   "version": "3.7.4"
  },
  "orig_nbformat": 4
 },
 "nbformat": 4,
 "nbformat_minor": 2
}
