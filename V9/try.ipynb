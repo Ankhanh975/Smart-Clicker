{
 "cells": [
  {
   "cell_type": "code",
   "execution_count": 33,
   "metadata": {},
   "outputs": [],
   "source": [
    "Z = [(4, 4), (4, 76), (4, 148), (4, 220), (4, 292),\n",
    "     (4, 364), (4, 436), (4, 508), (4, 580), (76, 4),\n",
    "     (76, 76), (76, 148), (76, 220), (76, 292), (76, 364),\n",
    "     (76, 436), (76, 508), (76, 580), (148, 4), (148, 76),\n",
    "     (148, 148), (148, 220), (148, 292), (148, 364), (148, 436),\n",
    "     (148, 508), (148, 580), (236, 4), (236, 76), (236, 148),\n",
    "     (236, 220), (236, 292), (236, 364), (236, 436), (236, 508),\n",
    "     (236, 580)]\n"
   ]
  },
  {
   "cell_type": "code",
   "execution_count": 43,
   "metadata": {},
   "outputs": [],
   "source": [
    "import numpy as np\n",
    "import cv2\n",
    "import matplotlib.pyplot as plt\n",
    "import os\n",
    "\n",
    "files = []\n",
    "for x in os.listdir(\"D:/Bi/Record/\"):\n",
    "    if x.endswith(\".jpg\"):\n",
    "        files.append(os.path.join(\"D:/Bi/Record/\", x))\n",
    "i = 0\n",
    "for file in files:\n",
    "    img = cv2.imread(file)\n",
    "    img = img[540:845, 636:1285]\n",
    "    # img = img[480:845, 600:1285]\n",
    "\n",
    "    # cv2.imwrite(f\"{0}.png\", img)\n",
    "\n",
    "    Slot = []\n",
    "    for x, y in Z:\n",
    "        Slot.append(img[x:x+64, y:y+32])\n",
    "        # Slot.append(img)\n",
    "\n",
    "    # downside\n",
    "    # for index in range(len(Slot)):\n",
    "    # for index in range(1):\n",
    "    #     dim = (66//2, 64//2)\n",
    "    #     Slot[index] = cv2.resize(Slot[index], dim, interpolation=cv2.INTER_AREA)\n",
    "    #     # Slot[index] = cv2.Canny(Slot[index], 100, 200)\n",
    "    #     i+=1\n",
    "    #     cv2.imwrite(f\"Dataset/{i}.png\", Slot[index])\n",
    "\n",
    "    dim = (32//4, 64//4)\n",
    "    i += 1\n",
    "    for n in range(1):\n",
    "        Slot[n] = cv2.resize(Slot[n], dim, interpolation=cv2.INTER_AREA)\n",
    "        cv2.imwrite(f\"Dataset/{n+4}/{i}.png\", Slot[n])\n"
   ]
  },
  {
   "cell_type": "code",
   "execution_count": 38,
   "metadata": {},
   "outputs": [],
   "source": [
    "# for i in range(15, 24):\n",
    "#     os.makedirs(f\"Dataset/{i}/\")"
   ]
  },
  {
   "cell_type": "code",
   "execution_count": 45,
   "metadata": {},
   "outputs": [
    {
     "data": {
      "text/plain": [
       "32"
      ]
     },
     "execution_count": 45,
     "metadata": {},
     "output_type": "execute_result"
    }
   ],
   "source": []
  },
  {
   "cell_type": "code",
   "execution_count": 37,
   "metadata": {},
   "outputs": [],
   "source": [
    "# from win32gui import GetWindowText, GetForegroundWindow\n",
    "# from _main import *\n",
    "# import win32gui\n",
    "# import win32api\n",
    "# from Lib import _List\n",
    "# from functools import lru_cache\n",
    "\n",
    "# def __getWindowName(windowId):\n",
    "#     # cache because windowId is a constant in a window lifetime\n",
    "#     # so GetWindowText(windowId) is a constant for every windowId\n",
    "#     return GetWindowText(windowId)\n",
    "    \n",
    "# def getActiveWindowName():\n",
    "#     return __getWindowName(GetForegroundWindow())\n",
    "\n",
    "# def getActiveWindowName2():\n",
    "#     return GetWindowText(GetForegroundWindow())\n",
    "\n",
    "# @lru_cache(maxsize=None)\n",
    "# def __getWindowName3(windowId):\n",
    "#     # cache because windowId is a constant in a window lifetime\n",
    "#     # so GetWindowText(windowId) is a constant for every windowId\n",
    "#     return GetWindowText(windowId)\n",
    "    \n",
    "# def getActiveWindowName3():\n",
    "#     return __getWindowName3(GetForegroundWindow())\n",
    "# %%timeit\n",
    "# GetWindowText(GetForegroundWindow())\n",
    "# %%timeit\n",
    "# __getWindowName(GetForegroundWindow())\n",
    "# %%timeit\n",
    "# getActiveWindowName2()\n",
    "\n",
    "# %%timeit\n",
    "# getActiveWindowName()\n",
    "# %%timeit\n",
    "# getActiveWindowName3()\n",
    "\n",
    "# %%timeit\n",
    "# for x in range(120):\n",
    "#     pass\n",
    "\n",
    "# 0x02"
   ]
  }
 ],
 "metadata": {
  "interpreter": {
   "hash": "684b1123683431d89d3bfe9a89cc763215f4b8cd94b4aba1fb40ad45ff7c8b41"
  },
  "kernelspec": {
   "display_name": "Python 3.7.4 64-bit",
   "name": "python3"
  },
  "language_info": {
   "codemirror_mode": {
    "name": "ipython",
    "version": 3
   },
   "file_extension": ".py",
   "mimetype": "text/x-python",
   "name": "python",
   "nbconvert_exporter": "python",
   "pygments_lexer": "ipython3",
   "version": "3.7.4"
  },
  "orig_nbformat": 4
 },
 "nbformat": 4,
 "nbformat_minor": 2
}
