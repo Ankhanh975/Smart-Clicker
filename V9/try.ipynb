{
 "cells": [
  {
   "cell_type": "code",
   "execution_count": 41,
   "metadata": {},
   "outputs": [],
   "source": [
    "from ctypes import windll\n",
    "import win32gui\n",
    "user32 = windll.user32\n",
    "\n",
    "screensize = user32.GetSystemMetrics(0), user32.GetSystemMetrics(1)\n"
   ]
  },
  {
   "cell_type": "code",
   "execution_count": 42,
   "metadata": {},
   "outputs": [
    {
     "data": {
      "text/plain": [
       "['try.ipynb - C:\\\\src\\\\Python\\\\Smart Clicker\\\\V9',\n",
       " \"Python's map(): Processing Iterables Without a Loop – Real Python - Brave\",\n",
       " 'Task Manager',\n",
       " 'Python 3.7.4 Shell',\n",
       " 'UserInput.py - C:\\\\src\\\\Python\\\\Smart Clicker\\\\V8 -08_06_2021',\n",
       " 'V9',\n",
       " 'Microsoft Text Input Application']"
      ]
     },
     "execution_count": 42,
     "metadata": {},
     "output_type": "execute_result"
    }
   ],
   "source": [
    "def getWindowNames():\n",
    "    All = []\n",
    "\n",
    "    def winEnumHandler(hwnd, ctx):\n",
    "        if win32gui.IsWindowVisible(hwnd):\n",
    "            Wintitle = win32gui.GetWindowText(hwnd)\n",
    "            if Wintitle != \"\" and Wintitle not in All:\n",
    "                if Wintitle not in [\"Program Manager\", \"Settings\"]:\n",
    "                    All.append(Wintitle)\n",
    "    win32gui.EnumWindows(winEnumHandler, None)\n",
    "    return All\n",
    "getWindowNames()"
   ]
  },
  {
   "cell_type": "code",
   "execution_count": 43,
   "metadata": {},
   "outputs": [],
   "source": [
    "def myfunc(a, b):\n",
    "  return a + b\n",
    "\n",
    "x=map(myfunc, ('apple', 'banana', 'cherry'), ('orange', 'lemon', 'pineapple'))"
   ]
  },
  {
   "cell_type": "code",
   "execution_count": 44,
   "metadata": {},
   "outputs": [
    {
     "data": {
      "text/plain": [
       "['appleorange', 'bananalemon', 'cherrypineapple']"
      ]
     },
     "execution_count": 44,
     "metadata": {},
     "output_type": "execute_result"
    }
   ],
   "source": [
    "list(x)\n"
   ]
  },
  {
   "cell_type": "code",
   "execution_count": 45,
   "metadata": {},
   "outputs": [],
   "source": [
    "from win32gui import GetWindowText, GetForegroundWindow\n",
    "import win32gui\n",
    "import win32api\n",
    "from Lib import _List\n",
    "\n",
    "\n",
    "def getKeyState(x):\n",
    "    a = win32api.GetKeyState(x)\n",
    "    if a < 0 and _List.VK_CODE_REVERSE[x]:\n",
    "        return _List.VK_CODE_REVERSE[x]\n",
    "\n",
    "\n",
    "def getKeyboardState():\n",
    "    Pressed = map(getKeyState, range(256))\n",
    "    Pressed = filter(None, Pressed)\n",
    "    Pressed = tuple(Pressed)\n",
    "    return Pressed\n"
   ]
  },
  {
   "cell_type": "code",
   "execution_count": 80,
   "metadata": {},
   "outputs": [
    {
     "data": {
      "text/plain": [
       "('control', 'lcontrol')"
      ]
     },
     "execution_count": 80,
     "metadata": {},
     "output_type": "execute_result"
    }
   ],
   "source": [
    "# getKeyState()\n",
    "\n",
    "n = map(getKeyState, range(256))\n",
    "n = filter(None, n)\n",
    "n = tuple(n)\n",
    "n\n"
   ]
  },
  {
   "cell_type": "code",
   "execution_count": 60,
   "metadata": {},
   "outputs": [
    {
     "data": {
      "text/plain": [
       "(5, 6, 6)"
      ]
     },
     "execution_count": 60,
     "metadata": {},
     "output_type": "execute_result"
    }
   ],
   "source": [
    "def myfunc(n):\n",
    "  return len(n)\n",
    "\n",
    "x = map(myfunc, ('apple', 'banana', 'cherry'))\n",
    "tuple(x)\n"
   ]
  },
  {
   "cell_type": "code",
   "execution_count": null,
   "metadata": {},
   "outputs": [],
   "source": []
  }
 ],
 "metadata": {
  "interpreter": {
   "hash": "684b1123683431d89d3bfe9a89cc763215f4b8cd94b4aba1fb40ad45ff7c8b41"
  },
  "kernelspec": {
   "display_name": "Python 3.7.4 64-bit",
   "name": "python3"
  },
  "language_info": {
   "codemirror_mode": {
    "name": "ipython",
    "version": 3
   },
   "file_extension": ".py",
   "mimetype": "text/x-python",
   "name": "python",
   "nbconvert_exporter": "python",
   "pygments_lexer": "ipython3",
   "version": "3.7.4"
  },
  "orig_nbformat": 4
 },
 "nbformat": 4,
 "nbformat_minor": 2
}
