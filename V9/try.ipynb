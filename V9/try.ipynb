{
 "cells": [
  {
   "cell_type": "code",
   "execution_count": 7,
   "metadata": {},
   "outputs": [
    {
     "name": "stdout",
     "output_type": "stream",
     "text": [
      "pygame 2.0.1 (SDL 2.0.14, Python 3.7.4)\n",
      "Hello from the pygame community. https://www.pygame.org/contribute.html\n",
      "Python 3.7.4 (tags/v3.7.4:e09359112e, Jul  8 2019, 20:34:20) [MSC v.1916 64 bit (AMD64)] 64bit on win32\n",
      "\n",
      "Window `V9` handle: 0x00000000000E0438\n",
      "\n",
      "Done.\n"
     ]
    }
   ],
   "source": [
    "import sys\n",
    "import win32gui as wgui\n",
    "import win32process as wproc\n",
    "import win32api as wapi\n",
    "import time\n",
    "import time\n",
    "import winAPIIn\n",
    "import win32gui\n",
    "import win32api\n",
    "from win32con import *\n",
    "\n",
    "def main(*argv):\n",
    "    if not argv:\n",
    "        window_name = input(\"Enter window name: \")\n",
    "    else:\n",
    "        window_name = argv[0]\n",
    "\n",
    "    handle = wgui.FindWindow(None, window_name)\n",
    "    print(\"Window `{0:s}` handle: 0x{1:016X}\".format(window_name, handle))\n",
    "    if not handle:\n",
    "        print(\"Invalid window handle\")\n",
    "        return\n",
    "    remote_thread, _ = wproc.GetWindowThreadProcessId(handle)\n",
    "    wproc.AttachThreadInput(wapi.GetCurrentThreadId(), remote_thread, True)\n",
    "    prev_handle = wgui.SetFocus(handle)\n",
    "\n",
    "\n",
    "if __name__ == \"__main__\":\n",
    "    print(\"Python {0:s} {1:d}bit on {2:s}\\n\".format(\" \".join(item.strip() for item in sys.version.split(\"\\n\")), 64 if sys.maxsize > 0x100000000 else 32, sys.platform))\n",
    "    main(\"V9\")\n",
    "    print(\"\\nDone.\")"
   ]
  },
  {
   "cell_type": "code",
   "execution_count": 8,
   "metadata": {},
   "outputs": [
    {
     "ename": "error",
     "evalue": "(0, 'SetForegroundWindow', 'No error message is available')",
     "output_type": "error",
     "traceback": [
      "\u001b[1;31m---------------------------------------------------------------------------\u001b[0m",
      "\u001b[1;31merror\u001b[0m                                     Traceback (most recent call last)",
      "\u001b[1;32m<ipython-input-8-6ff9e934d4ed>\u001b[0m in \u001b[0;36m<module>\u001b[1;34m\u001b[0m\n\u001b[0;32m      2\u001b[0m \u001b[0mx\u001b[0m \u001b[1;33m=\u001b[0m \u001b[0mwinAPIIn\u001b[0m\u001b[1;33m.\u001b[0m\u001b[0mgetPos\u001b[0m\u001b[1;33m(\u001b[0m\u001b[1;33m)\u001b[0m\u001b[1;33m\u001b[0m\u001b[1;33m\u001b[0m\u001b[0m\n\u001b[0;32m      3\u001b[0m \u001b[0mhwnd\u001b[0m \u001b[1;33m=\u001b[0m \u001b[0mwin32gui\u001b[0m\u001b[1;33m.\u001b[0m\u001b[0mWindowFromPoint\u001b[0m\u001b[1;33m(\u001b[0m\u001b[0mx\u001b[0m\u001b[1;33m)\u001b[0m\u001b[1;33m\u001b[0m\u001b[1;33m\u001b[0m\u001b[0m\n\u001b[1;32m----> 4\u001b[1;33m \u001b[0mwin32gui\u001b[0m\u001b[1;33m.\u001b[0m\u001b[0mSetForegroundWindow\u001b[0m\u001b[1;33m(\u001b[0m\u001b[0mhwnd\u001b[0m\u001b[1;33m)\u001b[0m\u001b[1;33m\u001b[0m\u001b[1;33m\u001b[0m\u001b[0m\n\u001b[0m",
      "\u001b[1;31merror\u001b[0m: (0, 'SetForegroundWindow', 'No error message is available')"
     ]
    }
   ],
   "source": [
    "time.sleep(5)\n",
    "x = winAPIIn.getPos()\n",
    "hwnd = win32gui.WindowFromPoint(x)\n",
    "win32gui.SetForegroundWindow(hwnd)"
   ]
  }
 ],
 "metadata": {
  "interpreter": {
   "hash": "684b1123683431d89d3bfe9a89cc763215f4b8cd94b4aba1fb40ad45ff7c8b41"
  },
  "kernelspec": {
   "display_name": "Python 3.7.4 64-bit",
   "language": "python",
   "name": "python3"
  },
  "language_info": {
   "codemirror_mode": {
    "name": "ipython",
    "version": 3
   },
   "file_extension": ".py",
   "mimetype": "text/x-python",
   "name": "python",
   "nbconvert_exporter": "python",
   "pygments_lexer": "ipython3",
   "version": "3.7.4"
  },
  "orig_nbformat": 4
 },
 "nbformat": 4,
 "nbformat_minor": 2
}
